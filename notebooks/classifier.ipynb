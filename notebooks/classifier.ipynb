{
 "cells": [
  {
   "cell_type": "code",
   "execution_count": 1,
   "id": "66c64bc0",
   "metadata": {},
   "outputs": [],
   "source": [
    "%matplotlib inline\n",
    "import pandas as pd\n",
    "import numpy as np\n",
    "import matplotlib.pyplot as plt\n",
    "import seaborn as sns"
   ]
  },
  {
   "cell_type": "code",
   "execution_count": 2,
   "id": "e5d3f178",
   "metadata": {},
   "outputs": [],
   "source": [
    "import sys\n",
    "import os\n",
    "\n",
    "# Add the parent directory to sys.path\n",
    "sys.path.append(os.path.abspath(os.path.join('..')))"
   ]
  },
  {
   "cell_type": "markdown",
   "id": "d6452f8c",
   "metadata": {},
   "source": [
    "# 1. Load Data"
   ]
  },
  {
   "cell_type": "code",
   "execution_count": 3,
   "id": "b84cb7ca",
   "metadata": {},
   "outputs": [
    {
     "data": {
      "text/html": [
       "<div>\n",
       "<style scoped>\n",
       "    .dataframe tbody tr th:only-of-type {\n",
       "        vertical-align: middle;\n",
       "    }\n",
       "\n",
       "    .dataframe tbody tr th {\n",
       "        vertical-align: top;\n",
       "    }\n",
       "\n",
       "    .dataframe thead th {\n",
       "        text-align: right;\n",
       "    }\n",
       "</style>\n",
       "<table border=\"1\" class=\"dataframe\">\n",
       "  <thead>\n",
       "    <tr style=\"text-align: right;\">\n",
       "      <th></th>\n",
       "      <th>type</th>\n",
       "      <th>url_length</th>\n",
       "      <th>domain_length</th>\n",
       "      <th>domain_entropy</th>\n",
       "      <th>is_common_tld</th>\n",
       "      <th>shortening_service</th>\n",
       "      <th>is_https</th>\n",
       "      <th>is_http</th>\n",
       "      <th>special_characters</th>\n",
       "      <th>sensitive_words</th>\n",
       "      <th>file_extension</th>\n",
       "      <th>suspicious_query</th>\n",
       "    </tr>\n",
       "  </thead>\n",
       "  <tbody>\n",
       "    <tr>\n",
       "      <th>0</th>\n",
       "      <td>2</td>\n",
       "      <td>16</td>\n",
       "      <td>16</td>\n",
       "      <td>3.375000</td>\n",
       "      <td>0</td>\n",
       "      <td>0</td>\n",
       "      <td>0</td>\n",
       "      <td>0</td>\n",
       "      <td>0</td>\n",
       "      <td>0</td>\n",
       "      <td>0</td>\n",
       "      <td>0</td>\n",
       "    </tr>\n",
       "    <tr>\n",
       "      <th>1</th>\n",
       "      <td>0</td>\n",
       "      <td>35</td>\n",
       "      <td>11</td>\n",
       "      <td>3.277613</td>\n",
       "      <td>1</td>\n",
       "      <td>0</td>\n",
       "      <td>0</td>\n",
       "      <td>0</td>\n",
       "      <td>0</td>\n",
       "      <td>0</td>\n",
       "      <td>5</td>\n",
       "      <td>0</td>\n",
       "    </tr>\n",
       "    <tr>\n",
       "      <th>2</th>\n",
       "      <td>0</td>\n",
       "      <td>31</td>\n",
       "      <td>14</td>\n",
       "      <td>3.235926</td>\n",
       "      <td>1</td>\n",
       "      <td>0</td>\n",
       "      <td>0</td>\n",
       "      <td>0</td>\n",
       "      <td>0</td>\n",
       "      <td>0</td>\n",
       "      <td>5</td>\n",
       "      <td>0</td>\n",
       "    </tr>\n",
       "    <tr>\n",
       "      <th>3</th>\n",
       "      <td>1</td>\n",
       "      <td>88</td>\n",
       "      <td>21</td>\n",
       "      <td>3.308751</td>\n",
       "      <td>1</td>\n",
       "      <td>0</td>\n",
       "      <td>0</td>\n",
       "      <td>1</td>\n",
       "      <td>7</td>\n",
       "      <td>0</td>\n",
       "      <td>5</td>\n",
       "      <td>0</td>\n",
       "    </tr>\n",
       "    <tr>\n",
       "      <th>4</th>\n",
       "      <td>1</td>\n",
       "      <td>235</td>\n",
       "      <td>23</td>\n",
       "      <td>3.501398</td>\n",
       "      <td>1</td>\n",
       "      <td>0</td>\n",
       "      <td>0</td>\n",
       "      <td>1</td>\n",
       "      <td>5</td>\n",
       "      <td>0</td>\n",
       "      <td>5</td>\n",
       "      <td>0</td>\n",
       "    </tr>\n",
       "  </tbody>\n",
       "</table>\n",
       "</div>"
      ],
      "text/plain": [
       "   type  url_length  domain_length  domain_entropy  is_common_tld  \\\n",
       "0     2          16             16        3.375000              0   \n",
       "1     0          35             11        3.277613              1   \n",
       "2     0          31             14        3.235926              1   \n",
       "3     1          88             21        3.308751              1   \n",
       "4     1         235             23        3.501398              1   \n",
       "\n",
       "   shortening_service  is_https  is_http  special_characters  sensitive_words  \\\n",
       "0                   0         0        0                   0                0   \n",
       "1                   0         0        0                   0                0   \n",
       "2                   0         0        0                   0                0   \n",
       "3                   0         0        1                   7                0   \n",
       "4                   0         0        1                   5                0   \n",
       "\n",
       "   file_extension  suspicious_query  \n",
       "0               0                 0  \n",
       "1               5                 0  \n",
       "2               5                 0  \n",
       "3               5                 0  \n",
       "4               5                 0  "
      ]
     },
     "execution_count": 3,
     "metadata": {},
     "output_type": "execute_result"
    }
   ],
   "source": [
    "phish = pd.read_csv(\"../data/feature_engineered_data.csv\")\n",
    "phish.head()"
   ]
  },
  {
   "cell_type": "code",
   "execution_count": 4,
   "id": "09083aba",
   "metadata": {},
   "outputs": [
    {
     "data": {
      "text/html": [
       "<div>\n",
       "<style scoped>\n",
       "    .dataframe tbody tr th:only-of-type {\n",
       "        vertical-align: middle;\n",
       "    }\n",
       "\n",
       "    .dataframe tbody tr th {\n",
       "        vertical-align: top;\n",
       "    }\n",
       "\n",
       "    .dataframe thead th {\n",
       "        text-align: right;\n",
       "    }\n",
       "</style>\n",
       "<table border=\"1\" class=\"dataframe\">\n",
       "  <thead>\n",
       "    <tr style=\"text-align: right;\">\n",
       "      <th></th>\n",
       "      <th>type</th>\n",
       "      <th>url_length</th>\n",
       "      <th>domain_length</th>\n",
       "      <th>domain_entropy</th>\n",
       "      <th>is_common_tld</th>\n",
       "      <th>shortening_service</th>\n",
       "      <th>is_https</th>\n",
       "      <th>is_http</th>\n",
       "      <th>special_characters</th>\n",
       "      <th>sensitive_words</th>\n",
       "      <th>file_extension</th>\n",
       "      <th>suspicious_query</th>\n",
       "    </tr>\n",
       "  </thead>\n",
       "  <tbody>\n",
       "    <tr>\n",
       "      <th>641120</th>\n",
       "      <td>2</td>\n",
       "      <td>39</td>\n",
       "      <td>15</td>\n",
       "      <td>3.506891</td>\n",
       "      <td>1</td>\n",
       "      <td>1</td>\n",
       "      <td>0</td>\n",
       "      <td>0</td>\n",
       "      <td>0</td>\n",
       "      <td>0</td>\n",
       "      <td>5</td>\n",
       "      <td>0</td>\n",
       "    </tr>\n",
       "    <tr>\n",
       "      <th>641121</th>\n",
       "      <td>2</td>\n",
       "      <td>44</td>\n",
       "      <td>18</td>\n",
       "      <td>3.350209</td>\n",
       "      <td>1</td>\n",
       "      <td>1</td>\n",
       "      <td>0</td>\n",
       "      <td>0</td>\n",
       "      <td>0</td>\n",
       "      <td>0</td>\n",
       "      <td>0</td>\n",
       "      <td>0</td>\n",
       "    </tr>\n",
       "    <tr>\n",
       "      <th>641122</th>\n",
       "      <td>2</td>\n",
       "      <td>42</td>\n",
       "      <td>16</td>\n",
       "      <td>3.327820</td>\n",
       "      <td>1</td>\n",
       "      <td>1</td>\n",
       "      <td>0</td>\n",
       "      <td>0</td>\n",
       "      <td>0</td>\n",
       "      <td>0</td>\n",
       "      <td>0</td>\n",
       "      <td>0</td>\n",
       "    </tr>\n",
       "    <tr>\n",
       "      <th>641123</th>\n",
       "      <td>2</td>\n",
       "      <td>45</td>\n",
       "      <td>16</td>\n",
       "      <td>3.452820</td>\n",
       "      <td>1</td>\n",
       "      <td>0</td>\n",
       "      <td>0</td>\n",
       "      <td>0</td>\n",
       "      <td>0</td>\n",
       "      <td>0</td>\n",
       "      <td>0</td>\n",
       "      <td>0</td>\n",
       "    </tr>\n",
       "    <tr>\n",
       "      <th>641124</th>\n",
       "      <td>2</td>\n",
       "      <td>41</td>\n",
       "      <td>17</td>\n",
       "      <td>3.572469</td>\n",
       "      <td>1</td>\n",
       "      <td>0</td>\n",
       "      <td>0</td>\n",
       "      <td>0</td>\n",
       "      <td>0</td>\n",
       "      <td>0</td>\n",
       "      <td>0</td>\n",
       "      <td>0</td>\n",
       "    </tr>\n",
       "  </tbody>\n",
       "</table>\n",
       "</div>"
      ],
      "text/plain": [
       "        type  url_length  domain_length  domain_entropy  is_common_tld  \\\n",
       "641120     2          39             15        3.506891              1   \n",
       "641121     2          44             18        3.350209              1   \n",
       "641122     2          42             16        3.327820              1   \n",
       "641123     2          45             16        3.452820              1   \n",
       "641124     2          41             17        3.572469              1   \n",
       "\n",
       "        shortening_service  is_https  is_http  special_characters  \\\n",
       "641120                   1         0        0                   0   \n",
       "641121                   1         0        0                   0   \n",
       "641122                   1         0        0                   0   \n",
       "641123                   0         0        0                   0   \n",
       "641124                   0         0        0                   0   \n",
       "\n",
       "        sensitive_words  file_extension  suspicious_query  \n",
       "641120                0               5                 0  \n",
       "641121                0               0                 0  \n",
       "641122                0               0                 0  \n",
       "641123                0               0                 0  \n",
       "641124                0               0                 0  "
      ]
     },
     "execution_count": 4,
     "metadata": {},
     "output_type": "execute_result"
    }
   ],
   "source": [
    "phish.tail()"
   ]
  },
  {
   "cell_type": "markdown",
   "id": "9b859753",
   "metadata": {},
   "source": [
    "# 2. Analyze Data"
   ]
  },
  {
   "cell_type": "code",
   "execution_count": 5,
   "id": "18eeb609",
   "metadata": {},
   "outputs": [
    {
     "name": "stdout",
     "output_type": "stream",
     "text": [
      "<class 'pandas.core.frame.DataFrame'>\n",
      "RangeIndex: 641125 entries, 0 to 641124\n",
      "Data columns (total 12 columns):\n",
      " #   Column              Non-Null Count   Dtype  \n",
      "---  ------              --------------   -----  \n",
      " 0   type                641125 non-null  int64  \n",
      " 1   url_length          641125 non-null  int64  \n",
      " 2   domain_length       641125 non-null  int64  \n",
      " 3   domain_entropy      641125 non-null  float64\n",
      " 4   is_common_tld       641125 non-null  int64  \n",
      " 5   shortening_service  641125 non-null  int64  \n",
      " 6   is_https            641125 non-null  int64  \n",
      " 7   is_http             641125 non-null  int64  \n",
      " 8   special_characters  641125 non-null  int64  \n",
      " 9   sensitive_words     641125 non-null  int64  \n",
      " 10  file_extension      641125 non-null  int64  \n",
      " 11  suspicious_query    641125 non-null  int64  \n",
      "dtypes: float64(1), int64(11)\n",
      "memory usage: 58.7 MB\n"
     ]
    }
   ],
   "source": [
    "phish.info()"
   ]
  },
  {
   "cell_type": "code",
   "execution_count": 6,
   "id": "ed35bd44",
   "metadata": {},
   "outputs": [
    {
     "data": {
      "image/png": "[encoded data removed]",
      "text/plain": [
       "<Figure size 640x480 with 1 Axes>"
      ]
     },
     "metadata": {},
     "output_type": "display_data"
    }
   ],
   "source": [
    "plt.pie(phish['type'].value_counts(), labels=['benign', 'defacement','phishing','malware'], autopct='%1.1f%%')\n",
    "plt.title('Class Distribution')\n",
    "plt.legend()\n",
    "plt.show()"
   ]
  },
  {
   "cell_type": "code",
   "execution_count": 7,
   "id": "839d24cc",
   "metadata": {},
   "outputs": [
    {
     "data": {
      "text/plain": [
       "type\n",
       "0    428080\n",
       "1     95308\n",
       "2     94092\n",
       "3     23645\n",
       "Name: count, dtype: int64"
      ]
     },
     "execution_count": 7,
     "metadata": {},
     "output_type": "execute_result"
    }
   ],
   "source": [
    "phish['type'].value_counts()"
   ]
  },
  {
   "cell_type": "markdown",
   "id": "dc174dcb",
   "metadata": {},
   "source": [
    "## 3. Data Processing"
   ]
  },
  {
   "cell_type": "code",
   "execution_count": 8,
   "id": "7c318d39",
   "metadata": {},
   "outputs": [
    {
     "data": {
      "text/plain": [
       "type                  0\n",
       "url_length            0\n",
       "domain_length         0\n",
       "domain_entropy        0\n",
       "is_common_tld         0\n",
       "shortening_service    0\n",
       "is_https              0\n",
       "is_http               0\n",
       "special_characters    0\n",
       "sensitive_words       0\n",
       "file_extension        0\n",
       "suspicious_query      0\n",
       "dtype: int64"
      ]
     },
     "execution_count": 8,
     "metadata": {},
     "output_type": "execute_result"
    }
   ],
   "source": [
    "phish.isna().sum()"
   ]
  },
  {
   "cell_type": "code",
   "execution_count": 9,
   "id": "9702c584",
   "metadata": {},
   "outputs": [],
   "source": [
    "# Remove duplicates\n",
    "#phish = phish.drop_duplicates()\n",
    "\n",
    "## Check for missing values and drop rows with missing values if necessary\n",
    "#phish = phish.dropna()\n",
    "\n",
    "## Verify the cleaned data\n",
    "#phish.info()"
   ]
  },
  {
   "cell_type": "code",
   "execution_count": 10,
   "id": "b9a730f6",
   "metadata": {},
   "outputs": [
    {
     "data": {
      "text/plain": [
       "type\n",
       "0    428080\n",
       "1     95308\n",
       "2     94092\n",
       "3     23645\n",
       "Name: count, dtype: int64"
      ]
     },
     "execution_count": 10,
     "metadata": {},
     "output_type": "execute_result"
    }
   ],
   "source": [
    "phish['type'].value_counts()"
   ]
  },
  {
   "cell_type": "markdown",
   "id": "aad51c0a",
   "metadata": {},
   "source": [
    "## 4. Feature Selection"
   ]
  },
  {
   "cell_type": "markdown",
   "id": "1aa3b4b7",
   "metadata": {},
   "source": [
    "### 4.1 Function to extract features from URLs"
   ]
  },
  {
   "cell_type": "markdown",
   "id": "ae3f9357",
   "metadata": {},
   "source": [
    "###  Feature Importance Evaluation"
   ]
  },
  {
   "cell_type": "code",
   "execution_count": 11,
   "id": "c3c853d6",
   "metadata": {},
   "outputs": [
    {
     "data": {
      "text/html": [
       "<div>\n",
       "<style scoped>\n",
       "    .dataframe tbody tr th:only-of-type {\n",
       "        vertical-align: middle;\n",
       "    }\n",
       "\n",
       "    .dataframe tbody tr th {\n",
       "        vertical-align: top;\n",
       "    }\n",
       "\n",
       "    .dataframe thead th {\n",
       "        text-align: right;\n",
       "    }\n",
       "</style>\n",
       "<table border=\"1\" class=\"dataframe\">\n",
       "  <thead>\n",
       "    <tr style=\"text-align: right;\">\n",
       "      <th></th>\n",
       "      <th>url_length</th>\n",
       "      <th>domain_length</th>\n",
       "      <th>domain_entropy</th>\n",
       "      <th>is_common_tld</th>\n",
       "      <th>shortening_service</th>\n",
       "      <th>is_https</th>\n",
       "      <th>is_http</th>\n",
       "      <th>special_characters</th>\n",
       "      <th>sensitive_words</th>\n",
       "      <th>file_extension</th>\n",
       "      <th>suspicious_query</th>\n",
       "    </tr>\n",
       "  </thead>\n",
       "  <tbody>\n",
       "    <tr>\n",
       "      <th>498865</th>\n",
       "      <td>55</td>\n",
       "      <td>16</td>\n",
       "      <td>3.250000</td>\n",
       "      <td>1</td>\n",
       "      <td>0</td>\n",
       "      <td>0</td>\n",
       "      <td>0</td>\n",
       "      <td>0</td>\n",
       "      <td>0</td>\n",
       "      <td>0</td>\n",
       "      <td>0</td>\n",
       "    </tr>\n",
       "    <tr>\n",
       "      <th>615464</th>\n",
       "      <td>36</td>\n",
       "      <td>13</td>\n",
       "      <td>3.026987</td>\n",
       "      <td>1</td>\n",
       "      <td>0</td>\n",
       "      <td>0</td>\n",
       "      <td>0</td>\n",
       "      <td>0</td>\n",
       "      <td>0</td>\n",
       "      <td>0</td>\n",
       "      <td>0</td>\n",
       "    </tr>\n",
       "    <tr>\n",
       "      <th>594082</th>\n",
       "      <td>33</td>\n",
       "      <td>22</td>\n",
       "      <td>3.629220</td>\n",
       "      <td>1</td>\n",
       "      <td>0</td>\n",
       "      <td>0</td>\n",
       "      <td>0</td>\n",
       "      <td>0</td>\n",
       "      <td>0</td>\n",
       "      <td>5</td>\n",
       "      <td>0</td>\n",
       "    </tr>\n",
       "    <tr>\n",
       "      <th>519940</th>\n",
       "      <td>29</td>\n",
       "      <td>16</td>\n",
       "      <td>3.327820</td>\n",
       "      <td>0</td>\n",
       "      <td>0</td>\n",
       "      <td>1</td>\n",
       "      <td>0</td>\n",
       "      <td>0</td>\n",
       "      <td>1</td>\n",
       "      <td>0</td>\n",
       "      <td>0</td>\n",
       "    </tr>\n",
       "    <tr>\n",
       "      <th>171274</th>\n",
       "      <td>44</td>\n",
       "      <td>11</td>\n",
       "      <td>3.095795</td>\n",
       "      <td>1</td>\n",
       "      <td>0</td>\n",
       "      <td>0</td>\n",
       "      <td>0</td>\n",
       "      <td>0</td>\n",
       "      <td>0</td>\n",
       "      <td>0</td>\n",
       "      <td>0</td>\n",
       "    </tr>\n",
       "    <tr>\n",
       "      <th>...</th>\n",
       "      <td>...</td>\n",
       "      <td>...</td>\n",
       "      <td>...</td>\n",
       "      <td>...</td>\n",
       "      <td>...</td>\n",
       "      <td>...</td>\n",
       "      <td>...</td>\n",
       "      <td>...</td>\n",
       "      <td>...</td>\n",
       "      <td>...</td>\n",
       "      <td>...</td>\n",
       "    </tr>\n",
       "    <tr>\n",
       "      <th>395779</th>\n",
       "      <td>36</td>\n",
       "      <td>19</td>\n",
       "      <td>3.286629</td>\n",
       "      <td>0</td>\n",
       "      <td>0</td>\n",
       "      <td>0</td>\n",
       "      <td>1</td>\n",
       "      <td>0</td>\n",
       "      <td>0</td>\n",
       "      <td>5</td>\n",
       "      <td>0</td>\n",
       "    </tr>\n",
       "    <tr>\n",
       "      <th>508594</th>\n",
       "      <td>38</td>\n",
       "      <td>10</td>\n",
       "      <td>3.121928</td>\n",
       "      <td>1</td>\n",
       "      <td>0</td>\n",
       "      <td>0</td>\n",
       "      <td>0</td>\n",
       "      <td>0</td>\n",
       "      <td>0</td>\n",
       "      <td>5</td>\n",
       "      <td>0</td>\n",
       "    </tr>\n",
       "    <tr>\n",
       "      <th>484742</th>\n",
       "      <td>63</td>\n",
       "      <td>13</td>\n",
       "      <td>3.180833</td>\n",
       "      <td>1</td>\n",
       "      <td>0</td>\n",
       "      <td>0</td>\n",
       "      <td>1</td>\n",
       "      <td>0</td>\n",
       "      <td>0</td>\n",
       "      <td>5</td>\n",
       "      <td>0</td>\n",
       "    </tr>\n",
       "    <tr>\n",
       "      <th>275117</th>\n",
       "      <td>89</td>\n",
       "      <td>9</td>\n",
       "      <td>2.725481</td>\n",
       "      <td>0</td>\n",
       "      <td>1</td>\n",
       "      <td>0</td>\n",
       "      <td>1</td>\n",
       "      <td>0</td>\n",
       "      <td>0</td>\n",
       "      <td>0</td>\n",
       "      <td>0</td>\n",
       "    </tr>\n",
       "    <tr>\n",
       "      <th>240809</th>\n",
       "      <td>123</td>\n",
       "      <td>19</td>\n",
       "      <td>3.391893</td>\n",
       "      <td>0</td>\n",
       "      <td>0</td>\n",
       "      <td>0</td>\n",
       "      <td>0</td>\n",
       "      <td>0</td>\n",
       "      <td>1</td>\n",
       "      <td>0</td>\n",
       "      <td>0</td>\n",
       "    </tr>\n",
       "  </tbody>\n",
       "</table>\n",
       "<p>512900 rows × 11 columns</p>\n",
       "</div>"
      ],
      "text/plain": [
       "        url_length  domain_length  domain_entropy  is_common_tld  \\\n",
       "498865          55             16        3.250000              1   \n",
       "615464          36             13        3.026987              1   \n",
       "594082          33             22        3.629220              1   \n",
       "519940          29             16        3.327820              0   \n",
       "171274          44             11        3.095795              1   \n",
       "...            ...            ...             ...            ...   \n",
       "395779          36             19        3.286629              0   \n",
       "508594          38             10        3.121928              1   \n",
       "484742          63             13        3.180833              1   \n",
       "275117          89              9        2.725481              0   \n",
       "240809         123             19        3.391893              0   \n",
       "\n",
       "        shortening_service  is_https  is_http  special_characters  \\\n",
       "498865                   0         0        0                   0   \n",
       "615464                   0         0        0                   0   \n",
       "594082                   0         0        0                   0   \n",
       "519940                   0         1        0                   0   \n",
       "171274                   0         0        0                   0   \n",
       "...                    ...       ...      ...                 ...   \n",
       "395779                   0         0        1                   0   \n",
       "508594                   0         0        0                   0   \n",
       "484742                   0         0        1                   0   \n",
       "275117                   1         0        1                   0   \n",
       "240809                   0         0        0                   0   \n",
       "\n",
       "        sensitive_words  file_extension  suspicious_query  \n",
       "498865                0               0                 0  \n",
       "615464                0               0                 0  \n",
       "594082                0               5                 0  \n",
       "519940                1               0                 0  \n",
       "171274                0               0                 0  \n",
       "...                 ...             ...               ...  \n",
       "395779                0               5                 0  \n",
       "508594                0               5                 0  \n",
       "484742                0               5                 0  \n",
       "275117                0               0                 0  \n",
       "240809                1               0                 0  \n",
       "\n",
       "[512900 rows x 11 columns]"
      ]
     },
     "execution_count": 11,
     "metadata": {},
     "output_type": "execute_result"
    }
   ],
   "source": [
    "from sklearn.model_selection import train_test_split\n",
    "X= phish.drop('type', axis=1)\n",
    "y = phish['type']\n",
    "X_train, X_test, y_train, y_test = train_test_split(X, y, test_size=0.2)\n",
    "X_train"
   ]
  },
  {
   "cell_type": "markdown",
   "id": "29576e18",
   "metadata": {},
   "source": [
    "## Machine Learning"
   ]
  },
  {
   "cell_type": "code",
   "execution_count": 12,
   "id": "c4f3dfc8",
   "metadata": {},
   "outputs": [],
   "source": [
    "from sklearn.ensemble import RandomForestClassifier\n",
    "from sklearn.metrics import accuracy_score, confusion_matrix, ConfusionMatrixDisplay, classification_report\n",
    "\n",
    "classifier = RandomForestClassifier(class_weight=\"balanced\", random_state=42, n_estimators=200)\n",
    "\n",
    "classifier.fit(X_train, y_train)\n",
    "y_pred = classifier.predict(X_test)"
   ]
  },
  {
   "cell_type": "code",
   "execution_count": 13,
   "id": "22b4cf4f",
   "metadata": {},
   "outputs": [
    {
     "name": "stdout",
     "output_type": "stream",
     "text": [
      "Accuracy with Random Forest Classifier: 0.9192\n",
      "Classification Report with Random Forest Classifier:\n",
      "              precision    recall  f1-score   support\n",
      "\n",
      "           0       0.96      0.94      0.95     85836\n",
      "           1       0.95      0.98      0.97     19056\n",
      "           2       0.72      0.77      0.74     18633\n",
      "           3       0.94      0.92      0.93      4700\n",
      "\n",
      "    accuracy                           0.92    128225\n",
      "   macro avg       0.89      0.90      0.90    128225\n",
      "weighted avg       0.92      0.92      0.92    128225\n",
      "\n"
     ]
    }
   ],
   "source": [
    "print(\n",
    "    f\"Accuracy with Random Forest Classifier: {accuracy_score(y_test, y_pred):.4f}\")\n",
    "print(\"Classification Report with Random Forest Classifier:\")\n",
    "print(classification_report(y_test, y_pred))"
   ]
  },
  {
   "cell_type": "code",
   "execution_count": 14,
   "id": "57d22eb7",
   "metadata": {},
   "outputs": [
    {
     "data": {
      "image/png": "[encoded data removed]",
      "text/plain": [
       "<Figure size 640x480 with 2 Axes>"
      ]
     },
     "metadata": {},
     "output_type": "display_data"
    }
   ],
   "source": [
    "cm = confusion_matrix(y_test, y_pred)\n",
    "disp = ConfusionMatrixDisplay(\n",
    "    confusion_matrix=cm, display_labels=classifier.classes_)\n",
    "disp.plot(cmap=plt.cm.Blues)\n",
    "plt.show()"
   ]
  },
  {
   "cell_type": "markdown",
   "id": "7a9230fc",
   "metadata": {},
   "source": [
    "## Saving model"
   ]
  },
  {
   "cell_type": "code",
   "execution_count": 15,
   "id": "6ca38c8c",
   "metadata": {},
   "outputs": [],
   "source": [
    "import pickle\n",
    "\n",
    "# Save the model to a file\n",
    "pickle.dump(classifier, open(f'../reports/random_forest_classifier.pkl', 'wb'))\n"
   ]
  },
  {
   "cell_type": "markdown",
   "id": "b4711dc6",
   "metadata": {},
   "source": [
    "##"
   ]
  }
 ],
 "metadata": {
  "kernelspec": {
   "display_name": "Python 3",
   "language": "python",
   "name": "python3"
  },
  "language_info": {
   "codemirror_mode": {
    "name": "ipython",
    "version": 3
   },
   "file_extension": ".py",
   "mimetype": "text/x-python",
   "name": "python",
   "nbconvert_exporter": "python",
   "pygments_lexer": "ipython3",
   "version": "3.13.2"
  }
 },
 "nbformat": 4,
 "nbformat_minor": 5
}
