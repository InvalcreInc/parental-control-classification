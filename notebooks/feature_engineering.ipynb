{
 "cells": [
  {
   "cell_type": "code",
   "execution_count": 1,
   "id": "66c64bc0",
   "metadata": {},
   "outputs": [],
   "source": [
    "%matplotlib inline\n",
    "import pandas as pd\n",
    "import numpy as np\n",
    "import matplotlib.pyplot as plt\n",
    "import seaborn as sns"
   ]
  },
  {
   "cell_type": "code",
   "execution_count": 2,
   "id": "e5d3f178",
   "metadata": {},
   "outputs": [],
   "source": [
    "import sys\n",
    "import os\n",
    "\n",
    "# Add the parent directory to sys.path\n",
    "sys.path.append(os.path.abspath(os.path.join('..')))"
   ]
  },
  {
   "cell_type": "markdown",
   "id": "d6452f8c",
   "metadata": {},
   "source": [
    "# 1. Load Raw Data"
   ]
  },
  {
   "cell_type": "code",
   "execution_count": 3,
   "id": "b84cb7ca",
   "metadata": {},
   "outputs": [
    {
     "data": {
      "text/html": [
       "<div>\n",
       "<style scoped>\n",
       "    .dataframe tbody tr th:only-of-type {\n",
       "        vertical-align: middle;\n",
       "    }\n",
       "\n",
       "    .dataframe tbody tr th {\n",
       "        vertical-align: top;\n",
       "    }\n",
       "\n",
       "    .dataframe thead th {\n",
       "        text-align: right;\n",
       "    }\n",
       "</style>\n",
       "<table border=\"1\" class=\"dataframe\">\n",
       "  <thead>\n",
       "    <tr style=\"text-align: right;\">\n",
       "      <th></th>\n",
       "      <th>url</th>\n",
       "      <th>type</th>\n",
       "      <th>domain_age</th>\n",
       "      <th>domain_status</th>\n",
       "    </tr>\n",
       "  </thead>\n",
       "  <tbody>\n",
       "    <tr>\n",
       "      <th>0</th>\n",
       "      <td>br-icloud.com.br</td>\n",
       "      <td>phishing</td>\n",
       "      <td>486</td>\n",
       "      <td>2</td>\n",
       "    </tr>\n",
       "    <tr>\n",
       "      <th>1</th>\n",
       "      <td>mp3raid.com/music/krizz_kaliko.html</td>\n",
       "      <td>benign</td>\n",
       "      <td>9214</td>\n",
       "      <td>2</td>\n",
       "    </tr>\n",
       "    <tr>\n",
       "      <th>2</th>\n",
       "      <td>bopsecrets.org/rexroth/cr/1.htm</td>\n",
       "      <td>benign</td>\n",
       "      <td>9234</td>\n",
       "      <td>2</td>\n",
       "    </tr>\n",
       "    <tr>\n",
       "      <th>3</th>\n",
       "      <td>http://www.garage-pirenne.be/index.php?option=...</td>\n",
       "      <td>defacement</td>\n",
       "      <td>28</td>\n",
       "      <td>2</td>\n",
       "    </tr>\n",
       "    <tr>\n",
       "      <th>4</th>\n",
       "      <td>http://adventure-nicaragua.net/index.php?optio...</td>\n",
       "      <td>defacement</td>\n",
       "      <td>160</td>\n",
       "      <td>2</td>\n",
       "    </tr>\n",
       "  </tbody>\n",
       "</table>\n",
       "</div>"
      ],
      "text/plain": [
       "                                                 url        type  domain_age  \\\n",
       "0                                   br-icloud.com.br    phishing         486   \n",
       "1                mp3raid.com/music/krizz_kaliko.html      benign        9214   \n",
       "2                    bopsecrets.org/rexroth/cr/1.htm      benign        9234   \n",
       "3  http://www.garage-pirenne.be/index.php?option=...  defacement          28   \n",
       "4  http://adventure-nicaragua.net/index.php?optio...  defacement         160   \n",
       "\n",
       "   domain_status  \n",
       "0              2  \n",
       "1              2  \n",
       "2              2  \n",
       "3              2  \n",
       "4              2  "
      ]
     },
     "execution_count": 3,
     "metadata": {},
     "output_type": "execute_result"
    }
   ],
   "source": [
    "phish=pd.read_csv(\"../data/mp_malicious_normalised.csv\")\n",
    "phish.head()"
   ]
  },
  {
   "cell_type": "code",
   "execution_count": 4,
   "id": "09083aba",
   "metadata": {},
   "outputs": [
    {
     "data": {
      "text/html": [
       "<div>\n",
       "<style scoped>\n",
       "    .dataframe tbody tr th:only-of-type {\n",
       "        vertical-align: middle;\n",
       "    }\n",
       "\n",
       "    .dataframe tbody tr th {\n",
       "        vertical-align: top;\n",
       "    }\n",
       "\n",
       "    .dataframe thead th {\n",
       "        text-align: right;\n",
       "    }\n",
       "</style>\n",
       "<table border=\"1\" class=\"dataframe\">\n",
       "  <thead>\n",
       "    <tr style=\"text-align: right;\">\n",
       "      <th></th>\n",
       "      <th>url</th>\n",
       "      <th>type</th>\n",
       "      <th>domain_age</th>\n",
       "      <th>domain_status</th>\n",
       "    </tr>\n",
       "  </thead>\n",
       "  <tbody>\n",
       "    <tr>\n",
       "      <th>168295</th>\n",
       "      <td>http://125.46.221.145:47991/Mozi.m</td>\n",
       "      <td>malware</td>\n",
       "      <td>0</td>\n",
       "      <td>0</td>\n",
       "    </tr>\n",
       "    <tr>\n",
       "      <th>168296</th>\n",
       "      <td>http://222.139.30.106:54863/Mozi.m</td>\n",
       "      <td>malware</td>\n",
       "      <td>0</td>\n",
       "      <td>0</td>\n",
       "    </tr>\n",
       "    <tr>\n",
       "      <th>168297</th>\n",
       "      <td>http://107.175.36.162/bins/hoho.arm5</td>\n",
       "      <td>malware</td>\n",
       "      <td>0</td>\n",
       "      <td>0</td>\n",
       "    </tr>\n",
       "    <tr>\n",
       "      <th>168298</th>\n",
       "      <td>http://cltmusic.com/wp-content/themes/gigawatt...</td>\n",
       "      <td>malware</td>\n",
       "      <td>366</td>\n",
       "      <td>2</td>\n",
       "    </tr>\n",
       "    <tr>\n",
       "      <th>168299</th>\n",
       "      <td>http://185.244.39.123/sparc</td>\n",
       "      <td>malware</td>\n",
       "      <td>0</td>\n",
       "      <td>0</td>\n",
       "    </tr>\n",
       "  </tbody>\n",
       "</table>\n",
       "</div>"
      ],
      "text/plain": [
       "                                                      url     type  \\\n",
       "168295                 http://125.46.221.145:47991/Mozi.m  malware   \n",
       "168296                 http://222.139.30.106:54863/Mozi.m  malware   \n",
       "168297               http://107.175.36.162/bins/hoho.arm5  malware   \n",
       "168298  http://cltmusic.com/wp-content/themes/gigawatt...  malware   \n",
       "168299                        http://185.244.39.123/sparc  malware   \n",
       "\n",
       "        domain_age  domain_status  \n",
       "168295           0              0  \n",
       "168296           0              0  \n",
       "168297           0              0  \n",
       "168298         366              2  \n",
       "168299           0              0  "
      ]
     },
     "execution_count": 4,
     "metadata": {},
     "output_type": "execute_result"
    }
   ],
   "source": [
    "phish.tail()"
   ]
  },
  {
   "cell_type": "markdown",
   "id": "9b859753",
   "metadata": {},
   "source": [
    "# 2. Analyze Raw Data"
   ]
  },
  {
   "cell_type": "code",
   "execution_count": 5,
   "id": "18eeb609",
   "metadata": {},
   "outputs": [
    {
     "data": {
      "text/plain": [
       "type\n",
       "benign        100500\n",
       "defacement     29554\n",
       "phishing       28318\n",
       "malware         9928\n",
       "Name: count, dtype: int64"
      ]
     },
     "execution_count": 5,
     "metadata": {},
     "output_type": "execute_result"
    }
   ],
   "source": [
    "phish['type'].value_counts()"
   ]
  },
  {
   "cell_type": "code",
   "execution_count": 6,
   "id": "ed35bd44",
   "metadata": {},
   "outputs": [
    {
     "data": {
      "image/png": "[encoded data removed]",
      "text/plain": [
       "<Figure size 640x480 with 1 Axes>"
      ]
     },
     "metadata": {},
     "output_type": "display_data"
    }
   ],
   "source": [
    "plt.pie(phish['type'].value_counts(), labels=['benign', 'defacement','phishing','malware'], autopct='%1.1f%%')\n",
    "plt.title('Class Distribution')\n",
    "plt.legend()\n",
    "plt.show()"
   ]
  },
  {
   "cell_type": "markdown",
   "id": "dc174dcb",
   "metadata": {},
   "source": [
    "## 3. Data Processing"
   ]
  },
  {
   "cell_type": "code",
   "execution_count": 8,
   "id": "7c318d39",
   "metadata": {},
   "outputs": [
    {
     "data": {
      "text/plain": [
       "url              0\n",
       "type             0\n",
       "domain_age       0\n",
       "domain_status    0\n",
       "dtype: int64"
      ]
     },
     "execution_count": 8,
     "metadata": {},
     "output_type": "execute_result"
    }
   ],
   "source": [
    "phish.isna().sum()"
   ]
  },
  {
   "cell_type": "markdown",
   "id": "6f8c8c90",
   "metadata": {},
   "source": [
    "### 3.1 Remove benign rows without domain info"
   ]
  },
  {
   "cell_type": "code",
   "execution_count": 23,
   "id": "3e9a3661",
   "metadata": {},
   "outputs": [
    {
     "data": {
      "text/plain": [
       "type\n",
       "benign        91494\n",
       "defacement    29554\n",
       "phishing      28318\n",
       "malware        9928\n",
       "Name: count, dtype: int64"
      ]
     },
     "execution_count": 23,
     "metadata": {},
     "output_type": "execute_result"
    }
   ],
   "source": [
    "phish = phish[~((phish['type'] == 'benign') & (phish['domain_age'] == 0))]\n",
    "phish['type'].value_counts()"
   ]
  },
  {
   "cell_type": "markdown",
   "id": "21e3c3f2",
   "metadata": {},
   "source": [
    "### 3.2 Remove duplicates"
   ]
  },
  {
   "cell_type": "code",
   "execution_count": 24,
   "id": "9702c584",
   "metadata": {},
   "outputs": [
    {
     "data": {
      "text/plain": [
       "type\n",
       "benign        91494\n",
       "defacement    29554\n",
       "phishing      28318\n",
       "malware        9928\n",
       "Name: count, dtype: int64"
      ]
     },
     "execution_count": 24,
     "metadata": {},
     "output_type": "execute_result"
    }
   ],
   "source": [
    "# Remove duplicates\n",
    "phish = phish.drop_duplicates()\n",
    "\n",
    "# Check for missing values and drop rows them\n",
    "phish = phish.dropna()\n",
    "\n",
    "# Drop empty type rows\n",
    "phish = phish[phish['type'] != '']\n",
    "\n",
    "# Verify the cleaned data\n",
    "phish['type'].value_counts()"
   ]
  },
  {
   "cell_type": "markdown",
   "id": "aad51c0a",
   "metadata": {},
   "source": [
    "## 4. Feature Selection"
   ]
  },
  {
   "cell_type": "markdown",
   "id": "1aa3b4b7",
   "metadata": {},
   "source": [
    "### 4.1 Function to extract features from URLs"
   ]
  },
  {
   "cell_type": "code",
   "execution_count": 13,
   "id": "6ddf25ca",
   "metadata": {},
   "outputs": [],
   "source": [
    "from modules.feature_engineering import feature_engineering\n",
    "def extract_type(row_type):\n",
    "    switcher = {\n",
    "        'benign': 0,\n",
    "        'defacement': 1,\n",
    "        'phishing': 2,\n",
    "        'malware': 3\n",
    "    }\n",
    "    return switcher.get(row_type.lower().strip(), -1)\n",
    "\n",
    "def extract_features(row):\n",
    "    features = {}\n",
    "    features['type'] = extract_type(row['type'])\n",
    "    features[\"domain_age\"] = row[\"domain_age\"]\n",
    "    features[\"domain_status\"] = row[\"domain_status\"]\n",
    "    features.update(feature_engineering(row['url']))\n",
    "    return features\n",
    "    "
   ]
  },
  {
   "cell_type": "code",
   "execution_count": 14,
   "id": "1fdf54d2",
   "metadata": {},
   "outputs": [
    {
     "data": {
      "text/html": [
       "<div>\n",
       "<style scoped>\n",
       "    .dataframe tbody tr th:only-of-type {\n",
       "        vertical-align: middle;\n",
       "    }\n",
       "\n",
       "    .dataframe tbody tr th {\n",
       "        vertical-align: top;\n",
       "    }\n",
       "\n",
       "    .dataframe thead th {\n",
       "        text-align: right;\n",
       "    }\n",
       "</style>\n",
       "<table border=\"1\" class=\"dataframe\">\n",
       "  <thead>\n",
       "    <tr style=\"text-align: right;\">\n",
       "      <th></th>\n",
       "      <th>type</th>\n",
       "      <th>domain_age</th>\n",
       "      <th>domain_status</th>\n",
       "      <th>shortening_service</th>\n",
       "      <th>file_extension</th>\n",
       "      <th>domain_entropy</th>\n",
       "      <th>digits_count</th>\n",
       "      <th>queries_count</th>\n",
       "      <th>special_characters_count</th>\n",
       "      <th>suspicious_query</th>\n",
       "      <th>is_common_tld</th>\n",
       "      <th>domain_length</th>\n",
       "      <th>url_length</th>\n",
       "      <th>is_http</th>\n",
       "      <th>sensitive_words</th>\n",
       "    </tr>\n",
       "  </thead>\n",
       "  <tbody>\n",
       "    <tr>\n",
       "      <th>0</th>\n",
       "      <td>2</td>\n",
       "      <td>486</td>\n",
       "      <td>2</td>\n",
       "      <td>0</td>\n",
       "      <td>0</td>\n",
       "      <td>3.375000</td>\n",
       "      <td>0</td>\n",
       "      <td>0</td>\n",
       "      <td>0</td>\n",
       "      <td>0</td>\n",
       "      <td>0</td>\n",
       "      <td>16</td>\n",
       "      <td>16</td>\n",
       "      <td>0</td>\n",
       "      <td>0</td>\n",
       "    </tr>\n",
       "    <tr>\n",
       "      <th>1</th>\n",
       "      <td>0</td>\n",
       "      <td>9214</td>\n",
       "      <td>2</td>\n",
       "      <td>0</td>\n",
       "      <td>5</td>\n",
       "      <td>3.277613</td>\n",
       "      <td>1</td>\n",
       "      <td>0</td>\n",
       "      <td>1</td>\n",
       "      <td>0</td>\n",
       "      <td>1</td>\n",
       "      <td>11</td>\n",
       "      <td>35</td>\n",
       "      <td>0</td>\n",
       "      <td>0</td>\n",
       "    </tr>\n",
       "    <tr>\n",
       "      <th>2</th>\n",
       "      <td>0</td>\n",
       "      <td>9234</td>\n",
       "      <td>2</td>\n",
       "      <td>0</td>\n",
       "      <td>5</td>\n",
       "      <td>3.235926</td>\n",
       "      <td>1</td>\n",
       "      <td>0</td>\n",
       "      <td>0</td>\n",
       "      <td>0</td>\n",
       "      <td>1</td>\n",
       "      <td>14</td>\n",
       "      <td>31</td>\n",
       "      <td>0</td>\n",
       "      <td>0</td>\n",
       "    </tr>\n",
       "    <tr>\n",
       "      <th>3</th>\n",
       "      <td>1</td>\n",
       "      <td>28</td>\n",
       "      <td>2</td>\n",
       "      <td>0</td>\n",
       "      <td>5</td>\n",
       "      <td>3.308751</td>\n",
       "      <td>7</td>\n",
       "      <td>49</td>\n",
       "      <td>9</td>\n",
       "      <td>0</td>\n",
       "      <td>1</td>\n",
       "      <td>21</td>\n",
       "      <td>88</td>\n",
       "      <td>1</td>\n",
       "      <td>0</td>\n",
       "    </tr>\n",
       "    <tr>\n",
       "      <th>4</th>\n",
       "      <td>1</td>\n",
       "      <td>160</td>\n",
       "      <td>2</td>\n",
       "      <td>0</td>\n",
       "      <td>5</td>\n",
       "      <td>3.501398</td>\n",
       "      <td>22</td>\n",
       "      <td>194</td>\n",
       "      <td>6</td>\n",
       "      <td>0</td>\n",
       "      <td>1</td>\n",
       "      <td>23</td>\n",
       "      <td>235</td>\n",
       "      <td>1</td>\n",
       "      <td>0</td>\n",
       "    </tr>\n",
       "  </tbody>\n",
       "</table>\n",
       "</div>"
      ],
      "text/plain": [
       "   type  domain_age  domain_status  shortening_service  file_extension  \\\n",
       "0     2         486              2                   0               0   \n",
       "1     0        9214              2                   0               5   \n",
       "2     0        9234              2                   0               5   \n",
       "3     1          28              2                   0               5   \n",
       "4     1         160              2                   0               5   \n",
       "\n",
       "   domain_entropy  digits_count  queries_count  special_characters_count  \\\n",
       "0        3.375000             0              0                         0   \n",
       "1        3.277613             1              0                         1   \n",
       "2        3.235926             1              0                         0   \n",
       "3        3.308751             7             49                         9   \n",
       "4        3.501398            22            194                         6   \n",
       "\n",
       "   suspicious_query  is_common_tld  domain_length  url_length  is_http  \\\n",
       "0                 0              0             16          16        0   \n",
       "1                 0              1             11          35        0   \n",
       "2                 0              1             14          31        0   \n",
       "3                 0              1             21          88        1   \n",
       "4                 0              1             23         235        1   \n",
       "\n",
       "   sensitive_words  \n",
       "0                0  \n",
       "1                0  \n",
       "2                0  \n",
       "3                0  \n",
       "4                0  "
      ]
     },
     "execution_count": 14,
     "metadata": {},
     "output_type": "execute_result"
    }
   ],
   "source": [
    "\n",
    "# Apply feature extraction to each row\n",
    "features_list = phish.apply(extract_features, axis=1)\n",
    "\n",
    "# Convert features into a DataFrame\n",
    "final_df = pd.DataFrame(features_list.tolist())\n",
    "final_df = final_df.dropna(how='any')\n",
    "final_df.head()"
   ]
  },
  {
   "cell_type": "code",
   "execution_count": 15,
   "id": "cf6c5075",
   "metadata": {},
   "outputs": [
    {
     "data": {
      "text/html": [
       "<div>\n",
       "<style scoped>\n",
       "    .dataframe tbody tr th:only-of-type {\n",
       "        vertical-align: middle;\n",
       "    }\n",
       "\n",
       "    .dataframe tbody tr th {\n",
       "        vertical-align: top;\n",
       "    }\n",
       "\n",
       "    .dataframe thead th {\n",
       "        text-align: right;\n",
       "    }\n",
       "</style>\n",
       "<table border=\"1\" class=\"dataframe\">\n",
       "  <thead>\n",
       "    <tr style=\"text-align: right;\">\n",
       "      <th></th>\n",
       "      <th>type</th>\n",
       "      <th>domain_age</th>\n",
       "      <th>domain_status</th>\n",
       "      <th>shortening_service</th>\n",
       "      <th>file_extension</th>\n",
       "      <th>domain_entropy</th>\n",
       "      <th>digits_count</th>\n",
       "      <th>queries_count</th>\n",
       "      <th>special_characters_count</th>\n",
       "      <th>suspicious_query</th>\n",
       "      <th>is_common_tld</th>\n",
       "      <th>domain_length</th>\n",
       "      <th>url_length</th>\n",
       "      <th>is_http</th>\n",
       "      <th>sensitive_words</th>\n",
       "    </tr>\n",
       "  </thead>\n",
       "  <tbody>\n",
       "    <tr>\n",
       "      <th>159289</th>\n",
       "      <td>3</td>\n",
       "      <td>0</td>\n",
       "      <td>0</td>\n",
       "      <td>0</td>\n",
       "      <td>0</td>\n",
       "      <td>3.903208</td>\n",
       "      <td>16</td>\n",
       "      <td>0</td>\n",
       "      <td>0</td>\n",
       "      <td>0</td>\n",
       "      <td>0</td>\n",
       "      <td>34</td>\n",
       "      <td>34</td>\n",
       "      <td>1</td>\n",
       "      <td>0</td>\n",
       "    </tr>\n",
       "    <tr>\n",
       "      <th>159290</th>\n",
       "      <td>3</td>\n",
       "      <td>0</td>\n",
       "      <td>0</td>\n",
       "      <td>0</td>\n",
       "      <td>0</td>\n",
       "      <td>4.079679</td>\n",
       "      <td>16</td>\n",
       "      <td>0</td>\n",
       "      <td>0</td>\n",
       "      <td>0</td>\n",
       "      <td>0</td>\n",
       "      <td>34</td>\n",
       "      <td>34</td>\n",
       "      <td>1</td>\n",
       "      <td>0</td>\n",
       "    </tr>\n",
       "    <tr>\n",
       "      <th>159291</th>\n",
       "      <td>3</td>\n",
       "      <td>0</td>\n",
       "      <td>0</td>\n",
       "      <td>0</td>\n",
       "      <td>0</td>\n",
       "      <td>4.183542</td>\n",
       "      <td>12</td>\n",
       "      <td>0</td>\n",
       "      <td>0</td>\n",
       "      <td>0</td>\n",
       "      <td>0</td>\n",
       "      <td>36</td>\n",
       "      <td>36</td>\n",
       "      <td>1</td>\n",
       "      <td>0</td>\n",
       "    </tr>\n",
       "    <tr>\n",
       "      <th>159292</th>\n",
       "      <td>3</td>\n",
       "      <td>366</td>\n",
       "      <td>2</td>\n",
       "      <td>0</td>\n",
       "      <td>5</td>\n",
       "      <td>3.022055</td>\n",
       "      <td>3</td>\n",
       "      <td>0</td>\n",
       "      <td>0</td>\n",
       "      <td>0</td>\n",
       "      <td>1</td>\n",
       "      <td>12</td>\n",
       "      <td>86</td>\n",
       "      <td>1</td>\n",
       "      <td>0</td>\n",
       "    </tr>\n",
       "    <tr>\n",
       "      <th>159293</th>\n",
       "      <td>3</td>\n",
       "      <td>0</td>\n",
       "      <td>0</td>\n",
       "      <td>0</td>\n",
       "      <td>0</td>\n",
       "      <td>3.958229</td>\n",
       "      <td>11</td>\n",
       "      <td>0</td>\n",
       "      <td>0</td>\n",
       "      <td>0</td>\n",
       "      <td>0</td>\n",
       "      <td>27</td>\n",
       "      <td>27</td>\n",
       "      <td>1</td>\n",
       "      <td>0</td>\n",
       "    </tr>\n",
       "  </tbody>\n",
       "</table>\n",
       "</div>"
      ],
      "text/plain": [
       "        type  domain_age  domain_status  shortening_service  file_extension  \\\n",
       "159289     3           0              0                   0               0   \n",
       "159290     3           0              0                   0               0   \n",
       "159291     3           0              0                   0               0   \n",
       "159292     3         366              2                   0               5   \n",
       "159293     3           0              0                   0               0   \n",
       "\n",
       "        domain_entropy  digits_count  queries_count  special_characters_count  \\\n",
       "159289        3.903208            16              0                         0   \n",
       "159290        4.079679            16              0                         0   \n",
       "159291        4.183542            12              0                         0   \n",
       "159292        3.022055             3              0                         0   \n",
       "159293        3.958229            11              0                         0   \n",
       "\n",
       "        suspicious_query  is_common_tld  domain_length  url_length  is_http  \\\n",
       "159289                 0              0             34          34        1   \n",
       "159290                 0              0             34          34        1   \n",
       "159291                 0              0             36          36        1   \n",
       "159292                 0              1             12          86        1   \n",
       "159293                 0              0             27          27        1   \n",
       "\n",
       "        sensitive_words  \n",
       "159289                0  \n",
       "159290                0  \n",
       "159291                0  \n",
       "159292                0  \n",
       "159293                0  "
      ]
     },
     "execution_count": 15,
     "metadata": {},
     "output_type": "execute_result"
    }
   ],
   "source": [
    "final_df.tail()"
   ]
  },
  {
   "cell_type": "code",
   "execution_count": 16,
   "id": "9dfc705a",
   "metadata": {},
   "outputs": [
    {
     "data": {
      "text/plain": [
       "type                        0\n",
       "domain_age                  0\n",
       "domain_status               0\n",
       "shortening_service          0\n",
       "file_extension              0\n",
       "domain_entropy              0\n",
       "digits_count                0\n",
       "queries_count               0\n",
       "special_characters_count    0\n",
       "suspicious_query            0\n",
       "is_common_tld               0\n",
       "domain_length               0\n",
       "url_length                  0\n",
       "is_http                     0\n",
       "sensitive_words             0\n",
       "dtype: int64"
      ]
     },
     "execution_count": 16,
     "metadata": {},
     "output_type": "execute_result"
    }
   ],
   "source": [
    "final_df.isna().sum()"
   ]
  },
  {
   "cell_type": "code",
   "execution_count": 17,
   "id": "d7122f4a",
   "metadata": {},
   "outputs": [
    {
     "data": {
      "text/plain": [
       "type\n",
       "0    91494\n",
       "1    29554\n",
       "2    28318\n",
       "3     9928\n",
       "Name: count, dtype: int64"
      ]
     },
     "execution_count": 17,
     "metadata": {},
     "output_type": "execute_result"
    }
   ],
   "source": [
    "final_df['type'].value_counts()"
   ]
  },
  {
   "cell_type": "code",
   "execution_count": 18,
   "id": "0aacf75a",
   "metadata": {},
   "outputs": [
    {
     "data": {
      "text/plain": [
       "is_common_tld\n",
       "1    136364\n",
       "0     22930\n",
       "Name: count, dtype: int64"
      ]
     },
     "execution_count": 18,
     "metadata": {},
     "output_type": "execute_result"
    }
   ],
   "source": [
    "final_df['is_common_tld'].value_counts()"
   ]
  },
  {
   "cell_type": "markdown",
   "id": "ad32d9b1",
   "metadata": {},
   "source": [
    "## Save data"
   ]
  },
  {
   "cell_type": "code",
   "execution_count": 19,
   "id": "0c466a38",
   "metadata": {},
   "outputs": [],
   "source": [
    "final_df.to_csv(\"../data/feature_engineered_data_mn.csv\", index=False)"
   ]
  },
  {
   "cell_type": "markdown",
   "id": "b4711dc6",
   "metadata": {},
   "source": [
    "##"
   ]
  },
  {
   "cell_type": "code",
   "execution_count": 20,
   "id": "8106a572",
   "metadata": {},
   "outputs": [],
   "source": [
    "from sklearn.model_selection import train_test_split\n",
    "X = final_df.drop('type', axis=1)\n",
    "y = final_df['type']\n",
    "X_train, X_test, y_train, y_test = train_test_split(X, y, test_size=0.2)"
   ]
  },
  {
   "cell_type": "code",
   "execution_count": 21,
   "id": "0d357a4c",
   "metadata": {},
   "outputs": [],
   "source": [
    "from sklearn.ensemble import RandomForestClassifier\n",
    "from sklearn.metrics import accuracy_score, confusion_matrix, ConfusionMatrixDisplay, classification_report\n",
    "\n",
    "classifier = RandomForestClassifier(\n",
    "    class_weight=\"balanced\", random_state=42, n_estimators=200)\n",
    "\n",
    "classifier.fit(X_train, y_train)\n",
    "y_pred = classifier.predict(X_test)"
   ]
  },
  {
   "cell_type": "code",
   "execution_count": 22,
   "id": "4210b72c",
   "metadata": {},
   "outputs": [
    {
     "name": "stdout",
     "output_type": "stream",
     "text": [
      "Accuracy with Random Forest Classifier: 0.9441\n",
      "Classification Report with Random Forest Classifier:\n",
      "              precision    recall  f1-score   support\n",
      "\n",
      "           0       0.95      0.98      0.97     18347\n",
      "           1       0.94      0.99      0.97      5809\n",
      "           2       0.91      0.78      0.84      5685\n",
      "           3       0.98      0.90      0.94      2018\n",
      "\n",
      "    accuracy                           0.94     31859\n",
      "   macro avg       0.95      0.91      0.93     31859\n",
      "weighted avg       0.94      0.94      0.94     31859\n",
      "\n"
     ]
    }
   ],
   "source": [
    "print(\n",
    "    f\"Accuracy with Random Forest Classifier: {accuracy_score(y_test, y_pred):.4f}\")\n",
    "print(\"Classification Report with Random Forest Classifier:\")\n",
    "print(classification_report(y_test, y_pred))"
   ]
  }
 ],
 "metadata": {
  "kernelspec": {
   "display_name": "Python 3",
   "language": "python",
   "name": "python3"
  },
  "language_info": {
   "codemirror_mode": {
    "name": "ipython",
    "version": 3
   },
   "file_extension": ".py",
   "mimetype": "text/x-python",
   "name": "python",
   "nbconvert_exporter": "python",
   "pygments_lexer": "ipython3",
   "version": "3.13.2"
  }
 },
 "nbformat": 4,
 "nbformat_minor": 5
}
