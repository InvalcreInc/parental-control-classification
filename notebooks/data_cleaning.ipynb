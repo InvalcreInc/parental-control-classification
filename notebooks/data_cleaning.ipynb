{
 "cells": [
  {
   "cell_type": "code",
   "execution_count": 95,
   "id": "66c64bc0",
   "metadata": {},
   "outputs": [],
   "source": [
    "%matplotlib inline\n",
    "import pandas as pd\n",
    "import numpy as np\n",
    "import matplotlib.pyplot as plt\n",
    "import seaborn as sns"
   ]
  },
  {
   "cell_type": "code",
   "execution_count": 96,
   "id": "e5d3f178",
   "metadata": {},
   "outputs": [],
   "source": [
    "import sys\n",
    "import os\n",
    "\n",
    "# Add the parent directory to sys.path\n",
    "sys.path.append(os.path.abspath(os.path.join('..')))"
   ]
  },
  {
   "cell_type": "markdown",
   "id": "d6452f8c",
   "metadata": {},
   "source": [
    "## 1. Load Raw Data With Domain Age and status"
   ]
  },
  {
   "cell_type": "code",
   "execution_count": 97,
   "id": "b84cb7ca",
   "metadata": {},
   "outputs": [
    {
     "data": {
      "text/html": [
       "<div>\n",
       "<style scoped>\n",
       "    .dataframe tbody tr th:only-of-type {\n",
       "        vertical-align: middle;\n",
       "    }\n",
       "\n",
       "    .dataframe tbody tr th {\n",
       "        vertical-align: top;\n",
       "    }\n",
       "\n",
       "    .dataframe thead th {\n",
       "        text-align: right;\n",
       "    }\n",
       "</style>\n",
       "<table border=\"1\" class=\"dataframe\">\n",
       "  <thead>\n",
       "    <tr style=\"text-align: right;\">\n",
       "      <th></th>\n",
       "      <th>url</th>\n",
       "      <th>type</th>\n",
       "      <th>domain_age</th>\n",
       "      <th>domain_status</th>\n",
       "    </tr>\n",
       "  </thead>\n",
       "  <tbody>\n",
       "    <tr>\n",
       "      <th>0</th>\n",
       "      <td>br-icloud.com.br</td>\n",
       "      <td>phishing</td>\n",
       "      <td>0</td>\n",
       "      <td>0</td>\n",
       "    </tr>\n",
       "    <tr>\n",
       "      <th>1</th>\n",
       "      <td>br-icloud.com.br</td>\n",
       "      <td>phishing</td>\n",
       "      <td>0</td>\n",
       "      <td>0</td>\n",
       "    </tr>\n",
       "    <tr>\n",
       "      <th>2</th>\n",
       "      <td>mp3raid.com/music/krizz_kaliko.html</td>\n",
       "      <td>benign</td>\n",
       "      <td>9214</td>\n",
       "      <td>2</td>\n",
       "    </tr>\n",
       "    <tr>\n",
       "      <th>3</th>\n",
       "      <td>bopsecrets.org/rexroth/cr/1.htm</td>\n",
       "      <td>benign</td>\n",
       "      <td>9234</td>\n",
       "      <td>2</td>\n",
       "    </tr>\n",
       "    <tr>\n",
       "      <th>4</th>\n",
       "      <td>http://www.garage-pirenne.be/index.php?option=...</td>\n",
       "      <td>defacement</td>\n",
       "      <td>0</td>\n",
       "      <td>0</td>\n",
       "    </tr>\n",
       "  </tbody>\n",
       "</table>\n",
       "</div>"
      ],
      "text/plain": [
       "                                                 url        type  domain_age  \\\n",
       "0                                   br-icloud.com.br    phishing           0   \n",
       "1                                   br-icloud.com.br    phishing           0   \n",
       "2                mp3raid.com/music/krizz_kaliko.html      benign        9214   \n",
       "3                    bopsecrets.org/rexroth/cr/1.htm      benign        9234   \n",
       "4  http://www.garage-pirenne.be/index.php?option=...  defacement           0   \n",
       "\n",
       "   domain_status  \n",
       "0              0  \n",
       "1              0  \n",
       "2              2  \n",
       "3              2  \n",
       "4              0  "
      ]
     },
     "execution_count": 97,
     "metadata": {},
     "output_type": "execute_result"
    }
   ],
   "source": [
    "phish=pd.read_csv(\"../data/malicious_phish_domain.csv\")\n",
    "phish.head()"
   ]
  },
  {
   "cell_type": "code",
   "execution_count": 98,
   "id": "09083aba",
   "metadata": {},
   "outputs": [
    {
     "data": {
      "text/html": [
       "<div>\n",
       "<style scoped>\n",
       "    .dataframe tbody tr th:only-of-type {\n",
       "        vertical-align: middle;\n",
       "    }\n",
       "\n",
       "    .dataframe tbody tr th {\n",
       "        vertical-align: top;\n",
       "    }\n",
       "\n",
       "    .dataframe thead th {\n",
       "        text-align: right;\n",
       "    }\n",
       "</style>\n",
       "<table border=\"1\" class=\"dataframe\">\n",
       "  <thead>\n",
       "    <tr style=\"text-align: right;\">\n",
       "      <th></th>\n",
       "      <th>url</th>\n",
       "      <th>type</th>\n",
       "      <th>domain_age</th>\n",
       "      <th>domain_status</th>\n",
       "    </tr>\n",
       "  </thead>\n",
       "  <tbody>\n",
       "    <tr>\n",
       "      <th>137296</th>\n",
       "      <td>http://pastehtml.com/view/bc3pjqupk.html</td>\n",
       "      <td>phishing</td>\n",
       "      <td>0</td>\n",
       "      <td>0</td>\n",
       "    </tr>\n",
       "    <tr>\n",
       "      <th>137297</th>\n",
       "      <td>indianamusicscene.com/</td>\n",
       "      <td>benign</td>\n",
       "      <td>0</td>\n",
       "      <td>0</td>\n",
       "    </tr>\n",
       "    <tr>\n",
       "      <th>137298</th>\n",
       "      <td>english.ryukyushimpo.jp/2011/04/25/357/</td>\n",
       "      <td>benign</td>\n",
       "      <td>7407</td>\n",
       "      <td>2</td>\n",
       "    </tr>\n",
       "    <tr>\n",
       "      <th>137299</th>\n",
       "      <td>aso.com/listings/AircraftListings.aspx?m_id=10...</td>\n",
       "      <td>benign</td>\n",
       "      <td>9985</td>\n",
       "      <td>2</td>\n",
       "    </tr>\n",
       "    <tr>\n",
       "      <th>137300</th>\n",
       "      <td>pewterreport.com/index.php?option=com_k2&amp;view=...</td>\n",
       "      <td>benign</td>\n",
       "      <td>8407</td>\n",
       "      <td>2</td>\n",
       "    </tr>\n",
       "  </tbody>\n",
       "</table>\n",
       "</div>"
      ],
      "text/plain": [
       "                                                      url      type  \\\n",
       "137296           http://pastehtml.com/view/bc3pjqupk.html  phishing   \n",
       "137297                             indianamusicscene.com/    benign   \n",
       "137298            english.ryukyushimpo.jp/2011/04/25/357/    benign   \n",
       "137299  aso.com/listings/AircraftListings.aspx?m_id=10...    benign   \n",
       "137300  pewterreport.com/index.php?option=com_k2&view=...    benign   \n",
       "\n",
       "        domain_age  domain_status  \n",
       "137296           0              0  \n",
       "137297           0              0  \n",
       "137298        7407              2  \n",
       "137299        9985              2  \n",
       "137300        8407              2  "
      ]
     },
     "execution_count": 98,
     "metadata": {},
     "output_type": "execute_result"
    }
   ],
   "source": [
    "phish.tail()"
   ]
  },
  {
   "cell_type": "markdown",
   "id": "9b859753",
   "metadata": {},
   "source": [
    "# 2. Analyze Raw Data"
   ]
  },
  {
   "cell_type": "code",
   "execution_count": 99,
   "id": "18eeb609",
   "metadata": {},
   "outputs": [
    {
     "data": {
      "text/plain": [
       "137301"
      ]
     },
     "execution_count": 99,
     "metadata": {},
     "output_type": "execute_result"
    }
   ],
   "source": [
    "phish.shape[0]"
   ]
  },
  {
   "cell_type": "code",
   "execution_count": 100,
   "id": "ed35bd44",
   "metadata": {},
   "outputs": [
    {
     "data": {
      "image/png": "[encoded data removed]",
      "text/plain": [
       "<Figure size 640x480 with 1 Axes>"
      ]
     },
     "metadata": {},
     "output_type": "display_data"
    }
   ],
   "source": [
    "plt.pie(phish['type'].value_counts(), labels=['benign', 'defacement','phishing','malware'], autopct='%1.1f%%')\n",
    "plt.title('Class Distribution')\n",
    "plt.legend()\n",
    "plt.show()"
   ]
  },
  {
   "cell_type": "code",
   "execution_count": 101,
   "id": "fc51f193",
   "metadata": {},
   "outputs": [
    {
     "data": {
      "text/plain": [
       "type\n",
       "benign        100500\n",
       "defacement     25269\n",
       "phishing        8222\n",
       "malware         3310\n",
       "Name: count, dtype: int64"
      ]
     },
     "execution_count": 101,
     "metadata": {},
     "output_type": "execute_result"
    }
   ],
   "source": [
    "phish['type'].value_counts()"
   ]
  },
  {
   "cell_type": "markdown",
   "id": "54e1db60",
   "metadata": {},
   "source": [
    "## 2. Load Raw data"
   ]
  },
  {
   "cell_type": "code",
   "execution_count": 102,
   "id": "d8e188a8",
   "metadata": {},
   "outputs": [
    {
     "data": {
      "text/plain": [
       "type\n",
       "phishing      22000\n",
       "malware       20000\n",
       "defacement     6000\n",
       "Name: count, dtype: int64"
      ]
     },
     "execution_count": 102,
     "metadata": {},
     "output_type": "execute_result"
    }
   ],
   "source": [
    "\n",
    "raw_df = pd.read_csv(\"../data/malicious_phish.csv\")\n",
    "phishing_df = raw_df[raw_df['type'] == 'phishing'].sample(n=22000)\n",
    "malware_df = raw_df[raw_df['type'] == 'malware'].sample(n=20000)\n",
    "defacement_df = raw_df[raw_df['type'] == 'defacement'].sample(n=6000)\n",
    "malicious_df = pd.concat([defacement_df,phishing_df, malware_df])\n",
    "malicious_df['type'].value_counts()\n"
   ]
  },
  {
   "cell_type": "markdown",
   "id": "ddd495d5",
   "metadata": {},
   "source": [
    "### 2.1 Take a sample of malicious dataset"
   ]
  },
  {
   "cell_type": "code",
   "execution_count": 103,
   "id": "56290e11",
   "metadata": {},
   "outputs": [
    {
     "data": {
      "text/plain": [
       "type\n",
       "phishing      22000\n",
       "malware       20000\n",
       "defacement     6000\n",
       "Name: count, dtype: int64"
      ]
     },
     "execution_count": 103,
     "metadata": {},
     "output_type": "execute_result"
    }
   ],
   "source": [
    "sample_malicious_df = malicious_df\n",
    "sample_malicious_df['type'].value_counts()"
   ]
  },
  {
   "cell_type": "code",
   "execution_count": 104,
   "id": "839d24cc",
   "metadata": {},
   "outputs": [
    {
     "data": {
      "text/html": [
       "<div>\n",
       "<style scoped>\n",
       "    .dataframe tbody tr th:only-of-type {\n",
       "        vertical-align: middle;\n",
       "    }\n",
       "\n",
       "    .dataframe tbody tr th {\n",
       "        vertical-align: top;\n",
       "    }\n",
       "\n",
       "    .dataframe thead th {\n",
       "        text-align: right;\n",
       "    }\n",
       "</style>\n",
       "<table border=\"1\" class=\"dataframe\">\n",
       "  <thead>\n",
       "    <tr style=\"text-align: right;\">\n",
       "      <th></th>\n",
       "      <th>url</th>\n",
       "      <th>type</th>\n",
       "    </tr>\n",
       "  </thead>\n",
       "  <tbody>\n",
       "    <tr>\n",
       "      <th>547736</th>\n",
       "      <td>http://123.11.1.246:40430/Mozi.m</td>\n",
       "      <td>malware</td>\n",
       "    </tr>\n",
       "    <tr>\n",
       "      <th>538079</th>\n",
       "      <td>http://bearsselection.xyz/ApiServices-Files133...</td>\n",
       "      <td>malware</td>\n",
       "    </tr>\n",
       "    <tr>\n",
       "      <th>456074</th>\n",
       "      <td>http://9779.info/%E6%B0%91%E6%97%8F%E5%B8%83%E...</td>\n",
       "      <td>malware</td>\n",
       "    </tr>\n",
       "    <tr>\n",
       "      <th>40214</th>\n",
       "      <td>buja.org.il/wp-content/themes/chagim/library/i...</td>\n",
       "      <td>malware</td>\n",
       "    </tr>\n",
       "    <tr>\n",
       "      <th>553834</th>\n",
       "      <td>http://119.86.80.74:39911/Mozi.m</td>\n",
       "      <td>malware</td>\n",
       "    </tr>\n",
       "  </tbody>\n",
       "</table>\n",
       "</div>"
      ],
      "text/plain": [
       "                                                      url     type\n",
       "547736                   http://123.11.1.246:40430/Mozi.m  malware\n",
       "538079  http://bearsselection.xyz/ApiServices-Files133...  malware\n",
       "456074  http://9779.info/%E6%B0%91%E6%97%8F%E5%B8%83%E...  malware\n",
       "40214   buja.org.il/wp-content/themes/chagim/library/i...  malware\n",
       "553834                   http://119.86.80.74:39911/Mozi.m  malware"
      ]
     },
     "execution_count": 104,
     "metadata": {},
     "output_type": "execute_result"
    }
   ],
   "source": [
    "sample_malicious_df.tail()"
   ]
  },
  {
   "cell_type": "code",
   "execution_count": 105,
   "id": "9117557f",
   "metadata": {},
   "outputs": [
    {
     "data": {
      "text/html": [
       "<div>\n",
       "<style scoped>\n",
       "    .dataframe tbody tr th:only-of-type {\n",
       "        vertical-align: middle;\n",
       "    }\n",
       "\n",
       "    .dataframe tbody tr th {\n",
       "        vertical-align: top;\n",
       "    }\n",
       "\n",
       "    .dataframe thead th {\n",
       "        text-align: right;\n",
       "    }\n",
       "</style>\n",
       "<table border=\"1\" class=\"dataframe\">\n",
       "  <thead>\n",
       "    <tr style=\"text-align: right;\">\n",
       "      <th></th>\n",
       "      <th>url</th>\n",
       "      <th>type</th>\n",
       "      <th>domain_age</th>\n",
       "      <th>domain_status</th>\n",
       "    </tr>\n",
       "  </thead>\n",
       "  <tbody>\n",
       "    <tr>\n",
       "      <th>304879</th>\n",
       "      <td>http://manosunidasciudadreal.org/index.php?opt...</td>\n",
       "      <td>defacement</td>\n",
       "      <td>0</td>\n",
       "      <td>0</td>\n",
       "    </tr>\n",
       "    <tr>\n",
       "      <th>3798</th>\n",
       "      <td>http://www.thc-hanau.de/index.php/geschaeft</td>\n",
       "      <td>defacement</td>\n",
       "      <td>0</td>\n",
       "      <td>0</td>\n",
       "    </tr>\n",
       "    <tr>\n",
       "      <th>210614</th>\n",
       "      <td>http://spectrumclub.net/component/banners/click/6</td>\n",
       "      <td>defacement</td>\n",
       "      <td>0</td>\n",
       "      <td>0</td>\n",
       "    </tr>\n",
       "    <tr>\n",
       "      <th>377915</th>\n",
       "      <td>http://www.masrealestate.it/index.php?option=c...</td>\n",
       "      <td>defacement</td>\n",
       "      <td>0</td>\n",
       "      <td>0</td>\n",
       "    </tr>\n",
       "    <tr>\n",
       "      <th>416559</th>\n",
       "      <td>http://www.skirennlauf.de/index.html?page=shop...</td>\n",
       "      <td>defacement</td>\n",
       "      <td>0</td>\n",
       "      <td>0</td>\n",
       "    </tr>\n",
       "  </tbody>\n",
       "</table>\n",
       "</div>"
      ],
      "text/plain": [
       "                                                      url        type  \\\n",
       "304879  http://manosunidasciudadreal.org/index.php?opt...  defacement   \n",
       "3798          http://www.thc-hanau.de/index.php/geschaeft  defacement   \n",
       "210614  http://spectrumclub.net/component/banners/click/6  defacement   \n",
       "377915  http://www.masrealestate.it/index.php?option=c...  defacement   \n",
       "416559  http://www.skirennlauf.de/index.html?page=shop...  defacement   \n",
       "\n",
       "        domain_age  domain_status  \n",
       "304879           0              0  \n",
       "3798             0              0  \n",
       "210614           0              0  \n",
       "377915           0              0  \n",
       "416559           0              0  "
      ]
     },
     "execution_count": 105,
     "metadata": {},
     "output_type": "execute_result"
    }
   ],
   "source": [
    "sample_malicious_df['domain_age'] = 0\n",
    "sample_malicious_df['domain_status'] = 0\n",
    "sample_malicious_df.head()"
   ]
  },
  {
   "cell_type": "code",
   "execution_count": 106,
   "id": "074d7f05",
   "metadata": {},
   "outputs": [
    {
     "data": {
      "text/plain": [
       "type\n",
       "benign        100500\n",
       "defacement     29554\n",
       "phishing       28318\n",
       "malware        15316\n",
       "Name: count, dtype: int64"
      ]
     },
     "execution_count": 106,
     "metadata": {},
     "output_type": "execute_result"
    }
   ],
   "source": [
    "final_df = pd.concat([phish, sample_malicious_df])\n",
    "final_df.drop_duplicates(inplace=True)\n",
    "final_df['type'].value_counts()"
   ]
  },
  {
   "cell_type": "code",
   "execution_count": 107,
   "id": "31f7415b",
   "metadata": {},
   "outputs": [
    {
     "data": {
      "image/png": "[encoded data removed]",
      "text/plain": [
       "<Figure size 640x480 with 1 Axes>"
      ]
     },
     "metadata": {},
     "output_type": "display_data"
    }
   ],
   "source": [
    "plt.pie(final_df['type'].value_counts(), labels=[\n",
    "        'benign', 'defacement', 'phishing', 'malware'], autopct='%1.1f%%')\n",
    "plt.title('Class Distribution')\n",
    "plt.legend()\n",
    "plt.show()"
   ]
  },
  {
   "cell_type": "markdown",
   "id": "ad32d9b1",
   "metadata": {},
   "source": [
    "## Save data"
   ]
  },
  {
   "cell_type": "code",
   "execution_count": 108,
   "id": "0c466a38",
   "metadata": {},
   "outputs": [],
   "source": [
    "final_df.to_csv(\"../data/mp_normalised_data.csv\", index=False)"
   ]
  },
  {
   "cell_type": "markdown",
   "id": "b4711dc6",
   "metadata": {},
   "source": [
    "##"
   ]
  }
 ],
 "metadata": {
  "kernelspec": {
   "display_name": "Python 3",
   "language": "python",
   "name": "python3"
  },
  "language_info": {
   "codemirror_mode": {
    "name": "ipython",
    "version": 3
   },
   "file_extension": ".py",
   "mimetype": "text/x-python",
   "name": "python",
   "nbconvert_exporter": "python",
   "pygments_lexer": "ipython3",
   "version": "3.13.2"
  }
 },
 "nbformat": 4,
 "nbformat_minor": 5
}
